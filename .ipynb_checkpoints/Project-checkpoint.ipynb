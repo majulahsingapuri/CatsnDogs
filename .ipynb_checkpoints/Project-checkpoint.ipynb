{
 "cells": [
  {
   "cell_type": "code",
   "execution_count": null,
   "metadata": {},
   "outputs": [],
   "source": [
    "# Basic Libraries\n",
    "import numpy as np\n",
    "import pandas as pd\n",
    "import seaborn as sb\n",
    "import matplotlib.pyplot as plt # we only need pyplot\n",
    "sb.set() # set the default Seaborn style for graphics\n",
    "\n",
    "# Import Decision Tree Classifier model from Scikit-Learn\n",
    "from sklearn.tree import DecisionTreeClassifier\n",
    "from sklearn.metrics import confusion_matrix\n",
    "from sklearn.tree import export_graphviz\n",
    "from sklearn.svm import LinearSVC\n",
    "from sklearn.model_selection import train_test_split\n",
    "\n",
    "import json\n",
    "import graphviz"
   ]
  },
  {
   "cell_type": "code",
   "execution_count": null,
   "metadata": {
    "scrolled": true
   },
   "outputs": [],
   "source": [
    "animalData = pd.read_csv('train.csv')\n",
    "animalData.head()"
   ]
  },
  {
   "cell_type": "code",
   "execution_count": null,
   "metadata": {},
   "outputs": [],
   "source": [
    "petIDs = np.array(animalData[\"PetID\"])\n",
    "magnitude = []\n",
    "score = []\n",
    "\n",
    "# loop through IDs, do some math with the magnitudes and score and save that into a Numpy array, then add it to the animals Database\n",
    "for id in petIDs:\n",
    "  try: \n",
    "    with open(\"./train_sentiment/\" + id + '.json') as json_file:\n",
    "      itemData = json.load(json_file)\n",
    "      magnitude.append(itemData[\"documentSentiment\"][\"magnitude\"])\n",
    "      score.append(itemData[\"documentSentiment\"][\"score\"])\n",
    "  except:\n",
    "    magnitude.append(0.0)\n",
    "    score.append(0.0)\n",
    "    pass\n",
    "\n",
    "jsonData = {\"Magnitude\" : magnitude, \"Score\" : score}\n",
    "animalData = animalData.join(pd.DataFrame(data = jsonData))"
   ]
  },
  {
   "cell_type": "code",
   "execution_count": null,
   "metadata": {},
   "outputs": [],
   "source": [
    "predictors = animalData.drop([\"Name\", \"State\", \"RescuerID\", \"Description\", \"PetID\", \"AdoptionSpeed\", \"VideoAmt\", \"PhotoAmt\"], axis = 1)\n",
    "response = pd.DataFrame(animalData[\"AdoptionSpeed\"])"
   ]
  },
  {
   "cell_type": "code",
   "execution_count": null,
   "metadata": {},
   "outputs": [],
   "source": [
    "X_train, X_test, y_train, y_test = train_test_split(predictors, response, test_size = 0.25)\n",
    "\n",
    "svcModel = LinearSVC()\n",
    "\n",
    "svcModel.fit(X_train, y_train)\n",
    "\n",
    "y_train_pred = svcModel.predict(X_train)\n",
    "y_test_pred = svcModel.predict(X_test)"
   ]
  },
  {
   "cell_type": "code",
   "execution_count": null,
   "metadata": {},
   "outputs": [],
   "source": [
    "# Check the Goodness of Fit (on Train Data)\n",
    "print(\"Goodness of Fit of Model \\tTrain Dataset\")\n",
    "print(\"Classification Accuracy \\t:\", svcModel.score(X_train, y_train))\n",
    "print()\n",
    "\n",
    "# Check the Goodness of Fit (on Test Data)\n",
    "print(\"Goodness of Fit of Model \\tTest Dataset\")\n",
    "print(\"Classification Accuracy \\t:\", svcModel.score(X_test, y_test))\n",
    "print()"
   ]
  },
  {
   "cell_type": "code",
   "execution_count": null,
   "metadata": {},
   "outputs": [],
   "source": [
    "matrix = confusion_matrix(y_train, y_train_pred)\n",
    "sb.heatmap(matrix, annot = True, fmt=\".0f\", annot_kws={\"size\": 18})"
   ]
  },
  {
   "cell_type": "code",
   "execution_count": null,
   "metadata": {},
   "outputs": [],
   "source": [
    "matrix = confusion_matrix(y_test, y_test_pred)\n",
    "sb.heatmap(matrix, annot = True, fmt=\".0f\", annot_kws={\"size\": 18})"
   ]
  },
  {
   "cell_type": "code",
   "execution_count": null,
   "metadata": {},
   "outputs": [],
   "source": []
  }
 ],
 "metadata": {
  "kernelspec": {
   "display_name": "Python 3",
   "language": "python",
   "name": "python3"
  },
  "language_info": {
   "codemirror_mode": {
    "name": "ipython",
    "version": 3
   },
   "file_extension": ".py",
   "mimetype": "text/x-python",
   "name": "python",
   "nbconvert_exporter": "python",
   "pygments_lexer": "ipython3",
   "version": "3.7.6"
  }
 },
 "nbformat": 4,
 "nbformat_minor": 4
}
